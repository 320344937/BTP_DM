{
 "cells": [
  {
   "cell_type": "code",
   "execution_count": null,
   "source": [
    "import cv2\r\n",
    "import time\r\n",
    "import matplotlib.pyplot as plt\r\n",
    "import numpy as np\r\n",
    "import os\r\n",
    "import PIL\r\n",
    "import tensorflow as tf\r\n",
    "import copy\r\n",
    "\r\n",
    "from tensorflow import keras\r\n",
    "from tensorflow.keras import layers\r\n",
    "from tensorflow.keras.models import Sequential\r\n",
    "from tensorflow.keras.preprocessing import image\r\n",
    "\r\n",
    "\r\n",
    "model = tf.keras.models.load_model('saved_model/model_0114')\r\n"
   ],
   "outputs": [],
   "metadata": {}
  },
  {
   "cell_type": "code",
   "execution_count": null,
   "source": [
    "cap = cv2.VideoCapture(0)\r\n",
    "\r\n",
    "while True:\r\n",
    "    stime = time.time()\r\n",
    "    ref, img = cap.read()\r\n",
    "    if ref:\r\n",
    "        img_cpd = copy.deepcopy(img)\r\n",
    "        img = cv2.resize(img, (64,64))\r\n",
    "        img = tf.keras.preprocessing.image.array_to_img(img)\r\n",
    "        img = image.img_to_array(img)\r\n",
    "        img = np.expand_dims(img, axis=0)\r\n",
    "        pred_class = model.predict(img)\r\n",
    "        cv2.putText(img_cpd, f\"classes:{np.argmax(pred_class)+1}\", (32,32), cv2.FONT_HERSHEY_SIMPLEX, 0.8, (255,0,0), 2)\r\n",
    "        cv2.putText(img_cpd, f\"Reasoning time:{time.time()-stime}\", (32,52), cv2.FONT_HERSHEY_SIMPLEX, 0.8, (255,0,0), 2)\r\n",
    "        cv2.imshow(\"img\", img_cpd)\r\n",
    "        if cv2.waitKey(1) & 0xff == ord(\"q\"):\r\n",
    "            break\r\n",
    "        print(np.argmax(pred_class)+1, time.time()-stime)\r\n",
    "\r\n",
    "cap.release()\r\n",
    "cv2.destroyAllWindows()"
   ],
   "outputs": [],
   "metadata": {}
  },
  {
   "cell_type": "code",
   "execution_count": null,
   "source": [
    "cv2.FONT_HERSHEY_SIMPLEX"
   ],
   "outputs": [],
   "metadata": {}
  },
  {
   "cell_type": "code",
   "execution_count": null,
   "source": [],
   "outputs": [],
   "metadata": {}
  }
 ],
 "metadata": {
  "kernelspec": {
   "display_name": "Python 3",
   "language": "python",
   "name": "python3"
  },
  "language_info": {
   "codemirror_mode": {
    "name": "ipython",
    "version": 3
   },
   "file_extension": ".py",
   "mimetype": "text/x-python",
   "name": "python",
   "nbconvert_exporter": "python",
   "pygments_lexer": "ipython3",
   "version": "3.8.6"
  }
 },
 "nbformat": 4,
 "nbformat_minor": 4
}