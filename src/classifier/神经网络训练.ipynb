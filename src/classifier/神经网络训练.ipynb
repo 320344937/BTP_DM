{
 "cells": [
  {
   "cell_type": "code",
   "execution_count": null,
   "source": [
    "import matplotlib.pyplot as plt\r\n",
    "import numpy as np\r\n",
    "import os\r\n",
    "import PIL\r\n",
    "import tensorflow as tf\r\n",
    "\r\n",
    "from tensorflow import keras\r\n",
    "from tensorflow.keras import layers\r\n",
    "from tensorflow.keras.models import Sequential\r\n",
    "\r\n",
    "import pathlib"
   ],
   "outputs": [],
   "metadata": {}
  },
  {
   "cell_type": "code",
   "execution_count": null,
   "source": [
    "import sys   \r\n",
    "print(sys.version) "
   ],
   "outputs": [],
   "metadata": {}
  },
  {
   "cell_type": "code",
   "execution_count": null,
   "source": [
    "from tensorflow.python.client import device_lib\r\n",
    "print(device_lib.list_local_devices())\r\n",
    "print(tf.__version__)"
   ],
   "outputs": [],
   "metadata": {
    "scrolled": false
   }
  },
  {
   "cell_type": "code",
   "execution_count": null,
   "source": [
    "data_dir = r\"D:\\Dataset\\0722RM\\tf_dataset\"\r\n",
    "data_dir = pathlib.Path(data_dir)"
   ],
   "outputs": [],
   "metadata": {}
  },
  {
   "cell_type": "code",
   "execution_count": null,
   "source": [
    "image_count = len(list(data_dir.glob('*/*.jpg')))\r\n",
    "print(image_count)"
   ],
   "outputs": [],
   "metadata": {}
  },
  {
   "cell_type": "code",
   "execution_count": null,
   "source": [
    "arrmor0 = list(data_dir.glob('0/*'))\r\n",
    "arrmor1 = list(data_dir.glob('1/*'))\r\n",
    "arrmor2 = list(data_dir.glob('2/*'))\r\n",
    "arrmor3 = list(data_dir.glob('3/*'))\r\n",
    "arrmor4 = list(data_dir.glob('4/*'))\r\n",
    "arrmor5 = list(data_dir.glob('5/*'))\r\n",
    "\r\n",
    "\r\n",
    "PIL.Image.open(str(arrmor1[2]))"
   ],
   "outputs": [],
   "metadata": {}
  },
  {
   "cell_type": "code",
   "execution_count": null,
   "source": [
    "batch_size = 32\r\n",
    "img_height = 64\r\n",
    "img_width = 64"
   ],
   "outputs": [],
   "metadata": {}
  },
  {
   "cell_type": "markdown",
   "source": [
    "# 数据集划分"
   ],
   "metadata": {}
  },
  {
   "cell_type": "markdown",
   "source": [
    "## 训练集"
   ],
   "metadata": {}
  },
  {
   "cell_type": "code",
   "execution_count": null,
   "source": [
    "train_ds = tf.keras.preprocessing.image_dataset_from_directory(\r\n",
    "  data_dir,\r\n",
    "  validation_split=0.2,\r\n",
    "  subset=\"training\",\r\n",
    "  seed=123,\r\n",
    "  image_size=(img_height, img_width),\r\n",
    "  batch_size=batch_size)\r\n",
    "for image_batch, labels_batch in train_ds:\r\n",
    "  print(image_batch.shape)\r\n",
    "  print(labels_batch.shape)\r\n",
    "  break"
   ],
   "outputs": [],
   "metadata": {
    "scrolled": true
   }
  },
  {
   "cell_type": "markdown",
   "source": [
    "## 测试集"
   ],
   "metadata": {}
  },
  {
   "cell_type": "code",
   "execution_count": null,
   "source": [
    "val_ds = tf.keras.preprocessing.image_dataset_from_directory(\r\n",
    "  data_dir,\r\n",
    "  validation_split=0.2,\r\n",
    "  subset=\"validation\",\r\n",
    "  image_size=(img_height, img_width),\r\n",
    "  batch_size=batch_size)"
   ],
   "outputs": [],
   "metadata": {}
  },
  {
   "cell_type": "code",
   "execution_count": null,
   "source": [
    "class_names = train_ds.class_names\r\n",
    "print(class_names)"
   ],
   "outputs": [],
   "metadata": {
    "scrolled": true
   }
  },
  {
   "cell_type": "markdown",
   "source": [
    "# 数据增强"
   ],
   "metadata": {}
  },
  {
   "cell_type": "code",
   "execution_count": null,
   "source": [
    "data_augmentation = tf.keras.Sequential([\r\n",
    "  layers.experimental.preprocessing.RandomFlip(\"horizontal_and_vertical\"),\r\n",
    "  layers.experimental.preprocessing.RandomRotation(0.2),\r\n",
    "])"
   ],
   "outputs": [],
   "metadata": {}
  },
  {
   "cell_type": "code",
   "execution_count": null,
   "source": [
    "AUTOTUNE = tf.data.experimental.AUTOTUNE\r\n",
    "def prepare(ds, shuffle=False, augment=False):\r\n",
    "  for image_batch, labels_batch in ds:\r\n",
    "      print(image_batch.shape)\r\n",
    "      print(labels_batch.shape)\r\n",
    "      break\r\n",
    "  \r\n",
    "  # Use data augmentation only on the training set\r\n",
    "  if augment:\r\n",
    "    ds = ds.map(lambda x, y: (data_augmentation(x, training=True), y), \r\n",
    "                num_parallel_calls=AUTOTUNE)\r\n",
    "\r\n",
    "  # Use buffered prefecting on all datasets\r\n",
    "  return ds.prefetch(buffer_size=AUTOTUNE)"
   ],
   "outputs": [],
   "metadata": {}
  },
  {
   "cell_type": "code",
   "execution_count": null,
   "source": [
    "train_ds = prepare(train_ds, shuffle=True, augment=True)"
   ],
   "outputs": [],
   "metadata": {}
  },
  {
   "cell_type": "code",
   "execution_count": null,
   "source": [
    "import matplotlib.pyplot as plt\r\n",
    "\r\n",
    "plt.figure(figsize=(10, 10))\r\n",
    "for images, labels in train_ds.take(1):\r\n",
    "  for i in range(9):\r\n",
    "    ax = plt.subplot(3, 3, i + 1)\r\n",
    "    plt.imshow(images[i].numpy().astype(\"uint8\"))\r\n",
    "    plt.title(class_names[labels[i]])\r\n",
    "    plt.axis(\"off\")"
   ],
   "outputs": [],
   "metadata": {}
  },
  {
   "cell_type": "code",
   "execution_count": null,
   "source": [
    "for image_batch, labels_batch in train_ds:\r\n",
    "  print(image_batch.shape)\r\n",
    "  print(labels_batch.shape)\r\n",
    "  break"
   ],
   "outputs": [],
   "metadata": {
    "scrolled": false
   }
  },
  {
   "cell_type": "code",
   "execution_count": null,
   "source": [
    "AUTOTUNE = tf.data.experimental.AUTOTUNE\r\n",
    "\r\n",
    "train_ds = train_ds.cache().shuffle(1000).prefetch(buffer_size=AUTOTUNE)\r\n",
    "val_ds = val_ds.cache().prefetch(buffer_size=AUTOTUNE)"
   ],
   "outputs": [],
   "metadata": {}
  },
  {
   "cell_type": "markdown",
   "source": [
    "# 数据标准化"
   ],
   "metadata": {}
  },
  {
   "cell_type": "code",
   "execution_count": null,
   "source": [
    "normalization_layer = layers.experimental.preprocessing.Rescaling(1./255)# [0,255]缩小到[0,1]"
   ],
   "outputs": [],
   "metadata": {}
  },
  {
   "cell_type": "code",
   "execution_count": null,
   "source": [
    "# map接收一个函数，Dataset中的每个元素都会被当作这个函数的输入，并将函数返回值作为新的Dataset\r\n",
    "normalized_ds = train_ds.map(lambda x, y: (normalization_layer(x), y))  # x为图像，y为标签\r\n",
    "image_batch, labels_batch = next(iter(normalized_ds))\r\n",
    "first_image = image_batch[0]\r\n",
    "# Notice the pixels values are now in `[0,1]`.\r\n",
    "print(np.min(first_image), np.max(first_image)) "
   ],
   "outputs": [],
   "metadata": {}
  },
  {
   "cell_type": "code",
   "execution_count": null,
   "source": [
    "data_augmentation = keras.Sequential(\r\n",
    "  [\r\n",
    "    layers.experimental.preprocessing.RandomFlip(\"horizontal\", \r\n",
    "                                                 input_shape=(img_height, \r\n",
    "                                                              img_width,\r\n",
    "                                                              3)),\r\n",
    "    layers.experimental.preprocessing.RandomRotation(0.1),\r\n",
    "    layers.experimental.preprocessing.RandomZoom(0.1),\r\n",
    "\r\n",
    "  ]\r\n",
    ")"
   ],
   "outputs": [],
   "metadata": {}
  },
  {
   "cell_type": "markdown",
   "source": [
    "# 模型搭建"
   ],
   "metadata": {}
  },
  {
   "cell_type": "code",
   "execution_count": null,
   "source": [
    "num_classes = 6\r\n",
    "\r\n",
    "model = Sequential([\r\n",
    "  data_augmentation,\r\n",
    "  layers.experimental.preprocessing.Rescaling(1./255),\r\n",
    "  layers.Conv2D(16, 3, padding='same', activation='relu'),\r\n",
    "  layers.MaxPooling2D(),\r\n",
    "  layers.Conv2D(32, 3, padding='same', activation='relu'),\r\n",
    "  layers.MaxPooling2D(),\r\n",
    "  layers.Conv2D(64, 3, padding='same', activation='relu'),\r\n",
    "  layers.MaxPooling2D(),\r\n",
    "  layers.Dropout(0.2),\r\n",
    "  layers.Flatten(),\r\n",
    "  layers.Dense(32, activation='relu'),\r\n",
    "  layers.Dense(num_classes)\r\n",
    "])"
   ],
   "outputs": [],
   "metadata": {}
  },
  {
   "cell_type": "code",
   "execution_count": null,
   "source": [
    "model.compile(optimizer='adam',\r\n",
    "              loss=tf.keras.losses.SparseCategoricalCrossentropy(from_logits=True),\r\n",
    "              metrics=['accuracy'])"
   ],
   "outputs": [],
   "metadata": {}
  },
  {
   "cell_type": "code",
   "execution_count": null,
   "source": [
    "model.summary()"
   ],
   "outputs": [],
   "metadata": {}
  },
  {
   "cell_type": "markdown",
   "source": [
    "# 模型训练"
   ],
   "metadata": {}
  },
  {
   "cell_type": "code",
   "execution_count": null,
   "source": [
    "epochs=40\r\n",
    "history = model.fit(\r\n",
    "  train_ds,\r\n",
    "  validation_data=val_ds,\r\n",
    "  epochs=epochs\r\n",
    ")"
   ],
   "outputs": [],
   "metadata": {}
  },
  {
   "cell_type": "markdown",
   "source": [
    "# 模型保存"
   ],
   "metadata": {}
  },
  {
   "cell_type": "code",
   "execution_count": null,
   "source": [
    "model.save(r'C:\\Users\\Harry2002\\Desktop\\tf_test\\saved_model\\my_model5')"
   ],
   "outputs": [],
   "metadata": {}
  },
  {
   "cell_type": "markdown",
   "source": [
    "# 图像数字识别"
   ],
   "metadata": {}
  },
  {
   "cell_type": "code",
   "execution_count": null,
   "source": [
    "image_raw_png = tf.compat.v1.gfile.FastGFile(r'C:\\Users\\Harry2002\\Desktop\\tf_dataset\\3\\1694.jpg', 'rb').read()\r\n",
    "img_array = tf.image.decode_jpeg(image_raw_png)\r\n",
    "img_array = tf.expand_dims(img_array, 0) # Create a batch\r\n",
    "predictions = model.predict(img_array)\r\n",
    "score = tf.nn.softmax(predictions[0])\r\n",
    "\r\n",
    "print(\r\n",
    "    \"This image most likely belongs to {} with a {:.2f} percent confidence.\"\r\n",
    "    .format(class_names[np.argmax(score)], 100 * np.max(score))\r\n",
    ")"
   ],
   "outputs": [],
   "metadata": {}
  },
  {
   "cell_type": "code",
   "execution_count": null,
   "source": [
    "acc = history.history['accuracy']\r\n",
    "val_acc = history.history['val_accuracy']\r\n",
    "\r\n",
    "loss = history.history['loss']\r\n",
    "val_loss = history.history['val_loss']\r\n",
    "\r\n",
    "plt.figure(figsize=(8, 8))\r\n",
    "plt.subplot(2, 1, 1)\r\n",
    "plt.plot(acc, label='Training Accuracy')\r\n",
    "plt.plot(val_acc, label='Validation Accuracy')\r\n",
    "plt.legend(loc='lower right')\r\n",
    "plt.ylabel('Accuracy')\r\n",
    "plt.ylim([min(plt.ylim()),1])\r\n",
    "plt.title('Training and Validation Accuracy')\r\n",
    "\r\n",
    "plt.subplot(2, 1, 2)\r\n",
    "plt.plot(loss, label='Training Loss')\r\n",
    "plt.plot(val_loss, label='Validation Loss')\r\n",
    "plt.legend(loc='upper right')\r\n",
    "plt.ylabel('Cross Entropy')\r\n",
    "plt.ylim([0,1.0])\r\n",
    "plt.title('Training and Validation Loss')\r\n",
    "plt.xlabel('epoch')\r\n",
    "plt.show()"
   ],
   "outputs": [],
   "metadata": {}
  },
  {
   "cell_type": "code",
   "execution_count": null,
   "source": [],
   "outputs": [],
   "metadata": {}
  }
 ],
 "metadata": {
  "kernelspec": {
   "name": "python3",
   "display_name": "Python 3.8.3 64-bit ('base': conda)"
  },
  "language_info": {
   "codemirror_mode": {
    "name": "ipython",
    "version": 3
   },
   "file_extension": ".py",
   "mimetype": "text/x-python",
   "name": "python",
   "nbconvert_exporter": "python",
   "pygments_lexer": "ipython3",
   "version": "3.8.3"
  },
  "interpreter": {
   "hash": "b3ba2566441a7c06988d0923437866b63cedc61552a5af99d1f4fb67d367b25f"
  }
 },
 "nbformat": 4,
 "nbformat_minor": 4
}