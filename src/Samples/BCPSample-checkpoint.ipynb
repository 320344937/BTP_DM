{
 "cells": [
  {
   "cell_type": "code",
   "execution_count": 1,
   "metadata": {},
   "outputs": [],
   "source": [
    "def sumcheck_cal(INFO):\n",
    "    sumcheck = 0\n",
    "    addcheck = 0\n",
    "    for i in [(k, v) for k, v in INFO.items()][:-3]:\n",
    "        sumcheck += i[1]\n",
    "        addcheck += sumcheck\n",
    "    \n",
    "    for i in INFO[\"DATA\"]:\n",
    "        sumcheck += i\n",
    "        addcheck += sumcheck\n",
    "\n",
    "    SUM_CHECK = int(sumcheck) & 0XFF\n",
    "    ADD_CHECK = int(addcheck) & 0XFF\n",
    "    return SUM_CHECK, ADD_CHECK"
   ]
  },
  {
   "cell_type": "code",
   "execution_count": 2,
   "metadata": {},
   "outputs": [],
   "source": [
    "from collections import OrderedDict\n",
    "O_INFO = OrderedDict()\n",
    "O_INFO[\"HEAD\"] = 0xFF\n",
    "O_INFO[\"D_ADDR\"] = None\n",
    "O_INFO[\"ID\"] = None\n",
    "O_INFO[\"LEN\"] = None\n",
    "O_INFO[\"DATA\"] = bytearray()\n",
    "O_INFO[\"SUM_CHECK\"] = None\n",
    "O_INFO[\"ADD_CHECK\"] = None\n",
    "D_INFO = O_INFO"
   ]
  },
  {
   "cell_type": "code",
   "execution_count": 3,
   "metadata": {},
   "outputs": [],
   "source": [
    "a = O_INFO"
   ]
  },
  {
   "cell_type": "code",
   "execution_count": 11,
   "metadata": {},
   "outputs": [],
   "source": [
    "a['D_ADDR'] = 0x02\n",
    "a[\"ID\"] = 0x02\n",
    "a[\"LEN\"] = 2\n",
    "a[\"DATA\"] = b'\\xdc\\x05\\xdc\\x05'"
   ]
  },
  {
   "cell_type": "code",
   "execution_count": 12,
   "metadata": {},
   "outputs": [
    {
     "data": {
      "text/plain": [
       "b'\\xdc\\x05\\xdc\\x05'"
      ]
     },
     "execution_count": 12,
     "metadata": {},
     "output_type": "execute_result"
    }
   ],
   "source": [
    "import struct\n",
    "struct.pack(\"<hh\", *[1500, 1500])"
   ]
  },
  {
   "cell_type": "code",
   "execution_count": 13,
   "metadata": {
    "scrolled": true
   },
   "outputs": [
    {
     "data": {
      "text/plain": [
       "OrderedDict([('HEAD', 255),\n",
       "             ('D_ADDR', 2),\n",
       "             ('ID', 2),\n",
       "             ('LEN', 2),\n",
       "             ('DATA', b'\\xdc\\x05\\xdc\\x05'),\n",
       "             ('SUM_CHECK', None),\n",
       "             ('ADD_CHECK', None)])"
      ]
     },
     "execution_count": 13,
     "metadata": {},
     "output_type": "execute_result"
    }
   ],
   "source": [
    "a"
   ]
  },
  {
   "cell_type": "code",
   "execution_count": 15,
   "metadata": {},
   "outputs": [],
   "source": [
    "a['SUM_CHECK'], a['ADD_CHECK'] = sumcheck_cal(a)"
   ]
  },
  {
   "cell_type": "code",
   "execution_count": 18,
   "metadata": {},
   "outputs": [],
   "source": [
    "def getInfo(INFO):\n",
    "        return bytearray([\n",
    "            INFO[\"HEAD\"],\n",
    "            INFO[\"D_ADDR\"],\n",
    "            INFO[\"ID\"],\n",
    "            INFO[\"LEN\"],\n",
    "            *INFO[\"DATA\"],\n",
    "            INFO[\"SUM_CHECK\"],\n",
    "            INFO[\"ADD_CHECK\"]\n",
    "        ])"
   ]
  },
  {
   "cell_type": "code",
   "execution_count": 19,
   "metadata": {},
   "outputs": [
    {
     "data": {
      "text/plain": [
       "bytearray(b'\\xff\\x02\\x02\\x02\\xdc\\x05\\xdc\\x05\\xc7X')"
      ]
     },
     "execution_count": 19,
     "metadata": {},
     "output_type": "execute_result"
    }
   ],
   "source": [
    "getInfo(a)"
   ]
  },
  {
   "cell_type": "code",
   "execution_count": null,
   "metadata": {},
   "outputs": [],
   "source": []
  }
 ],
 "metadata": {
  "kernelspec": {
   "display_name": "Python 3.7.3 64-bit ('base': conda)",
   "language": "python",
   "name": "python37364bitbaseconda5c234014ca654726884b307d90295938"
  },
  "language_info": {
   "codemirror_mode": {
    "name": "ipython",
    "version": 3
   },
   "file_extension": ".py",
   "mimetype": "text/x-python",
   "name": "python",
   "nbconvert_exporter": "python",
   "pygments_lexer": "ipython3",
   "version": "3.8.3"
  }
 },
 "nbformat": 4,
 "nbformat_minor": 4
}
