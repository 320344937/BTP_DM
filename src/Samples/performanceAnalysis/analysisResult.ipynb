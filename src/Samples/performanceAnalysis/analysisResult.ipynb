{
 "cells": [
  {
   "cell_type": "code",
   "execution_count": 17,
   "source": [
    "#debug模式"
   ],
   "outputs": [],
   "metadata": {}
  },
  {
   "cell_type": "code",
   "execution_count": null,
   "source": [
    "import cProfile\r\n",
    "import pstats\r\n",
    "p = pstats.Stats(r'C:\\Users\\1\\Desktop\\Competition\\2021全国大学生机器人大赛RoboMaster对抗赛\\BTP&DM\\src\\Samples\\performanceAnalysis\\result1.out')\r\n",
    "result = p.strip_dirs().sort_stats(\"cumtime\").print_stats()"
   ],
   "outputs": [],
   "metadata": {}
  },
  {
   "cell_type": "code",
   "execution_count": 19,
   "source": [
    "#非debug模式"
   ],
   "outputs": [],
   "metadata": {}
  },
  {
   "cell_type": "code",
   "execution_count": null,
   "source": [
    "import cProfile\r\n",
    "import pstats\r\n",
    "p = pstats.Stats(r'C:\\Users\\1\\Desktop\\Competition\\2021全国大学生机器人大赛RoboMaster对抗赛\\BTP&DM\\src\\Samples\\performanceAnalysis\\result2.out')\r\n",
    "result = p.strip_dirs().sort_stats(\"cumtime\").print_stats()"
   ],
   "outputs": [],
   "metadata": {}
  },
  {
   "cell_type": "code",
   "execution_count": null,
   "source": [],
   "outputs": [],
   "metadata": {}
  }
 ],
 "metadata": {
  "kernelspec": {
   "display_name": "Python 3.7.3 64-bit ('base': conda)",
   "language": "python",
   "name": "python37364bitbaseconda5c234014ca654726884b307d90295938"
  },
  "language_info": {
   "codemirror_mode": {
    "name": "ipython",
    "version": 3
   },
   "file_extension": ".py",
   "mimetype": "text/x-python",
   "name": "python",
   "nbconvert_exporter": "python",
   "pygments_lexer": "ipython3",
   "version": "3.8.3"
  }
 },
 "nbformat": 4,
 "nbformat_minor": 4
}